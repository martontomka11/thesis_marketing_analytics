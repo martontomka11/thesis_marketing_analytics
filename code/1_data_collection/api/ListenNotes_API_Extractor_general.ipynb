{
 "cells": [
  {
   "cell_type": "markdown",
   "id": "db2a3b27",
   "metadata": {},
   "source": [
    "# Extract information from Page X"
   ]
  },
  {
   "cell_type": "markdown",
   "id": "50c56650",
   "metadata": {},
   "source": [
    "Extract data from the 20 podcast shows on page X of 'Best podcasts':\n",
    "https://www.listennotes.com/best-podcasts/"
   ]
  },
  {
   "cell_type": "code",
   "execution_count": 104,
   "id": "bb24620b",
   "metadata": {},
   "outputs": [
    {
     "name": "stdout",
     "output_type": "stream",
     "text": [
      "{'id': 67, 'name': 'Podcasts', 'parent_id': None, 'podcasts': [{'id': '2332ca0f7657413ca47a990e80f513c0', 'title': 'Straight Up With Stassi', 'publisher': 'Stassi Schroeder Clark', 'image': 'https://production.listennotes.com/podcasts/straight-up-with-stassi-stassi-schroeder-pZWbGjMNSrs-clNa-RbjkLn.300x300.jpg', 'thumbnail': 'https://production.listennotes.com/podcasts/straight-up-with-stassi-stassi-schroeder-pZWbGjMNSrs-clNa-RbjkLn.300x300.jpg', 'listennotes_url': 'https://www.listennotes.com/c/2332ca0f7657413ca47a990e80f513c0/', 'listen_score': 'Please upgrade to PRO or ENTERPRISE plan to see this field. Learn more: listennotes.com/api/pricing', 'listen_score_global_rank': 'Please upgrade to PRO or ENTERPRISE plan to see this field. Learn more: listennotes.com/api/pricing', 'total_episodes': 267, 'audio_length_sec': 3650, 'update_frequency_hours': 167, 'explicit_content': True, 'description': 'Love her or hate her, but you can’t ignore the sassy, quick-witted Stassi Schroeder Clark. On her weekly podcast, Stassi examines the highs and lows of life, through the unique lens of a strong-minded woman who has grown up (and fallen down) in front of the world on reality tv. Putting her token honest and relatable twist on every topic, Stassi has mastered how to embrace being 100% yourself. Her show invites listeners in on real conversations between real friends about real topics. Stassi is a 2x New York Times Bestselling author, mother, and #OOTD enthusiast.', 'itunes_id': 977824904, 'rss': 'Please upgrade to PRO or ENTERPRISE plan to see this field. Learn more: listennotes.com/api/pricing', 'latest_pub_date_ms': 1664964000000, 'latest_episode_id': 'Please upgrade to PRO or ENTERPRISE plan to see this field. Learn more: listennotes.com/api/pricing', 'earliest_pub_date_ms': 1426693374265, 'language': 'English', 'country': 'United States', 'website': 'https://audioboom.com/channels/5087871?utm_source=listennotes.com&utm_campaign=Listen+Notes&utm_medium=website', 'extra': {'twitter_handle': 'Please upgrade to PRO or ENTERPRISE plan to see this field. Learn more: listennotes.com/api/pricing', 'facebook_handle': 'Please upgrade to PRO or ENTERPRISE plan to see this field. Learn more: listennotes.com/api/pricing', 'instagram_handle': 'Please upgrade to PRO or ENTERPRISE plan to see this field. Learn more: listennotes.com/api/pricing', 'wechat_handle': 'Please upgrade to PRO or ENTERPRISE plan to see this field. Learn more: listennotes.com/api/pricing', 'patreon_handle': 'Please upgrade to PRO or ENTERPRISE plan to see this field. Learn more: listennotes.com/api/pricing', 'youtube_url': 'Please upgrade to PRO or ENTERPRISE plan to see this field. Learn more: listennotes.com/api/pricing', 'linkedin_url': 'Please upgrade to PRO or ENTERPRISE plan to see this field. Learn more: listennotes.com/api/pricing', 'spotify_url': 'Please upgrade to PRO or ENTERPRISE plan to see this field. Learn more: listennotes.com/api/pricing', 'google_url': 'Please upgrade to PRO or ENTERPRISE plan to see this field. Learn more: listennotes.com/api/pricing', 'amazon_music_url': 'Please upgrade to PRO or ENTERPRISE plan to see this field. Learn more: listennotes.com/api/pricing', 'url1': 'Please upgrade to PRO or ENTERPRISE plan to see this field. Learn more: listennotes.com/api/pricing', 'url2': 'Please upgrade to PRO or ENTERPRISE plan to see this field. Learn more: listennotes.com/api/pricing', 'url3': 'Please upgrade to PRO or ENTERPRISE plan to see this field. Learn more: listennotes.com/api/pricing'}, 'is_claimed': False, 'email': 'Please upgrade to PRO or ENTERPRISE plan to see this field. Learn more: listennotes.com/api/pricing', 'type': 'episodic', 'looking_for': {'sponsors': False, 'guests': False, 'cohosts': False, 'cross_promotion': False}, 'genre_ids': [67, 68, 122]}, {'id': 'b43fce5f6f4947a582897217019be802', 'title': 'Rachel Maddow Presents: Ultra', 'publisher': 'Rachel Maddow, MSNBC', 'image': 'https://production.listennotes.com/podcasts/rachel-maddow-presents-ultra-JFVMkaNnh-U-uSio7gWYcds.300x300.jpg', 'thumbnail': 'https://production.listennotes.com/podcasts/rachel-maddow-presents-ultra-JFVMkaNnh-U-uSio7gWYcds.300x300.jpg', 'listennotes_url': 'https://www.listennotes.com/c/b43fce5f6f4947a582897217019be802/', 'listen_score': 'Please upgrade to PRO or ENTERPRISE plan to see this field. Learn more: listennotes.com/api/pricing', 'listen_score_global_rank': 'Please upgrade to PRO or ENTERPRISE plan to see this field. Learn more: listennotes.com/api/pricing', 'total_episodes': 1, 'audio_length_sec': 102, 'update_frequency_hours': 0, 'explicit_content': False, 'description': 'Sitting members of Congress aiding and abetting a plot to overthrow the government. Insurrectionists criminally charged with plotting to end American democracy for good. Justice Department prosecutors under crushing political pressure. Rachel Maddow Presents: Ultra is the all-but-forgotten true story of good, old-fashioned American extremism getting supercharged by proximity to power. When extremist elected officials get caught plotting against America with the violent ultra right, this is the story of the lengths they will go to… to cover their tracks. Follow now and join Rachel Maddow for the first two episodes on October 10th.', 'itunes_id': 1647910854, 'rss': 'Please upgrade to PRO or ENTERPRISE plan to see this field. Learn more: listennotes.com/api/pricing', 'latest_pub_date_ms': 1664586066000, 'latest_episode_id': 'Please upgrade to PRO or ENTERPRISE plan to see this field. Learn more: listennotes.com/api/pricing', 'earliest_pub_date_ms': 1664586066000, 'language': 'English', 'country': 'United States', 'website': 'https://rachel-maddow-presents-ultra.simplecast.com?utm_source=listennotes.com&utm_campaign=Listen+Notes&utm_medium=website', 'extra': {'twitter_handle': 'Please upgrade to PRO or ENTERPRISE plan to see this field. Learn more: listennotes.com/api/pricing', 'facebook_handle': 'Please upgrade to PRO or ENTERPRISE plan to see this field. Learn more: listennotes.com/api/pricing', 'instagram_handle': 'Please upgrade to PRO or ENTERPRISE plan to see this field. Learn more: listennotes.com/api/pricing', 'wechat_handle': 'Please upgrade to PRO or ENTERPRISE plan to see this field. Learn more: listennotes.com/api/pricing', 'patreon_handle': 'Please upgrade to PRO or ENTERPRISE plan to see this field. Learn more: listennotes.com/api/pricing', 'youtube_url': 'Please upgrade to PRO or ENTERPRISE plan to see this field. Learn more: listennotes.com/api/pricing', 'linkedin_url': 'Please upgrade to PRO or ENTERPRISE plan to see this field. Learn more: listennotes.com/api/pricing', 'spotify_url': 'Please upgrade to PRO or ENTERPRISE plan to see this field. Learn more: listennotes.com/api/pricing', 'google_url': 'Please upgrade to PRO or ENTERPRISE plan to see this field. Learn more: listennotes.com/api/pricing', 'amazon_music_url': 'Please upgrade to PRO or ENTERPRISE plan to see this field. Learn more: listennotes.com/api/pricing', 'url1': 'Please upgrade to PRO or ENTERPRISE plan to see this field. Learn more: listennotes.com/api/pricing', 'url2': 'Please upgrade to PRO or ENTERPRISE plan to see this field. Learn more: listennotes.com/api/pricing', 'url3': 'Please upgrade to PRO or ENTERPRISE plan to see this field. Learn more: listennotes.com/api/pricing'}, 'is_claimed': False, 'email': 'Please upgrade to PRO or ENTERPRISE plan to see this field. Learn more: listennotes.com/api/pricing', 'type': 'serial', 'looking_for': {'sponsors': False, 'guests': False, 'cohosts': False, 'cross_promotion': False}, 'genre_ids': [99, 125, 67]}], 'total': 1022, 'has_next': False, 'has_previous': True, 'page_number': 52, 'previous_page_number': 51, 'next_page_number': 53, 'listennotes_url': 'https://www.listennotes.com/best-podcasts/'}\n"
     ]
    }
   ],
   "source": [
    "from listennotes import podcast_api\n",
    "\n",
    "client = podcast_api.Client(api_key='insert key here')\n",
    "response = client.fetch_best_podcasts(\n",
    "  page=52, # Change each extraction!\n",
    "  region='us',\n",
    "  sort='listen_score',\n",
    "  safe_mode=0,\n",
    ")\n",
    "print(response.json())\n",
    "\n",
    "podcasts = (response.json()['podcasts'])"
   ]
  },
  {
   "cell_type": "markdown",
   "id": "df02fc33",
   "metadata": {},
   "source": [
    "Organize the variables and observations, write the results to a CSV file as a table:"
   ]
  },
  {
   "cell_type": "code",
   "execution_count": 105,
   "id": "70667952",
   "metadata": {},
   "outputs": [
    {
     "name": "stdout",
     "output_type": "stream",
     "text": [
      "['2332ca0f7657413ca47a990e80f513c0', 'Straight Up With Stassi', 'Stassi Schroeder Clark', 'https://production.listennotes.com/podcasts/straight-up-with-stassi-stassi-schroeder-pZWbGjMNSrs-clNa-RbjkLn.300x300.jpg', 'https://production.listennotes.com/podcasts/straight-up-with-stassi-stassi-schroeder-pZWbGjMNSrs-clNa-RbjkLn.300x300.jpg', 'https://www.listennotes.com/c/2332ca0f7657413ca47a990e80f513c0/', 'Please upgrade to PRO or ENTERPRISE plan to see this field. Learn more: listennotes.com/api/pricing', 'Please upgrade to PRO or ENTERPRISE plan to see this field. Learn more: listennotes.com/api/pricing', '267', '3650', '167', 'True', 'Love her or hate her, but you can’t ignore the sassy, quick-witted Stassi Schroeder Clark. On her weekly podcast, Stassi examines the highs and lows of life, through the unique lens of a strong-minded woman who has grown up (and fallen down) in front of the world on reality tv. Putting her token honest and relatable twist on every topic, Stassi has mastered how to embrace being 100% yourself. Her show invites listeners in on real conversations between real friends about real topics. Stassi is a 2x New York Times Bestselling author, mother, and #OOTD enthusiast.', '977824904', 'Please upgrade to PRO or ENTERPRISE plan to see this field. Learn more: listennotes.com/api/pricing', '1664964000000', 'Please upgrade to PRO or ENTERPRISE plan to see this field. Learn more: listennotes.com/api/pricing', '1426693374265', 'English', 'United States', 'https://audioboom.com/channels/5087871?utm_source=listennotes.com&utm_campaign=Listen+Notes&utm_medium=website', \"{'twitter_handle': 'Please upgrade to PRO or ENTERPRISE plan to see this field. Learn more: listennotes.com/api/pricing', 'facebook_handle': 'Please upgrade to PRO or ENTERPRISE plan to see this field. Learn more: listennotes.com/api/pricing', 'instagram_handle': 'Please upgrade to PRO or ENTERPRISE plan to see this field. Learn more: listennotes.com/api/pricing', 'wechat_handle': 'Please upgrade to PRO or ENTERPRISE plan to see this field. Learn more: listennotes.com/api/pricing', 'patreon_handle': 'Please upgrade to PRO or ENTERPRISE plan to see this field. Learn more: listennotes.com/api/pricing', 'youtube_url': 'Please upgrade to PRO or ENTERPRISE plan to see this field. Learn more: listennotes.com/api/pricing', 'linkedin_url': 'Please upgrade to PRO or ENTERPRISE plan to see this field. Learn more: listennotes.com/api/pricing', 'spotify_url': 'Please upgrade to PRO or ENTERPRISE plan to see this field. Learn more: listennotes.com/api/pricing', 'google_url': 'Please upgrade to PRO or ENTERPRISE plan to see this field. Learn more: listennotes.com/api/pricing', 'amazon_music_url': 'Please upgrade to PRO or ENTERPRISE plan to see this field. Learn more: listennotes.com/api/pricing', 'url1': 'Please upgrade to PRO or ENTERPRISE plan to see this field. Learn more: listennotes.com/api/pricing', 'url2': 'Please upgrade to PRO or ENTERPRISE plan to see this field. Learn more: listennotes.com/api/pricing', 'url3': 'Please upgrade to PRO or ENTERPRISE plan to see this field. Learn more: listennotes.com/api/pricing'}\", 'False', 'Please upgrade to PRO or ENTERPRISE plan to see this field. Learn more: listennotes.com/api/pricing', 'episodic', \"{'sponsors': False, 'guests': False, 'cohosts': False, 'cross_promotion': False}\", '[67, 68, 122]']\n",
      "['b43fce5f6f4947a582897217019be802', 'Rachel Maddow Presents: Ultra', 'Rachel Maddow, MSNBC', 'https://production.listennotes.com/podcasts/rachel-maddow-presents-ultra-JFVMkaNnh-U-uSio7gWYcds.300x300.jpg', 'https://production.listennotes.com/podcasts/rachel-maddow-presents-ultra-JFVMkaNnh-U-uSio7gWYcds.300x300.jpg', 'https://www.listennotes.com/c/b43fce5f6f4947a582897217019be802/', 'Please upgrade to PRO or ENTERPRISE plan to see this field. Learn more: listennotes.com/api/pricing', 'Please upgrade to PRO or ENTERPRISE plan to see this field. Learn more: listennotes.com/api/pricing', '1', '102', '0', 'False', 'Sitting members of Congress aiding and abetting a plot to overthrow the government. Insurrectionists criminally charged with plotting to end American democracy for good. Justice Department prosecutors under crushing political pressure. Rachel Maddow Presents: Ultra is the all-but-forgotten true story of good, old-fashioned American extremism getting supercharged by proximity to power. When extremist elected officials get caught plotting against America with the violent ultra right, this is the story of the lengths they will go to… to cover their tracks. Follow now and join Rachel Maddow for the first two episodes on October 10th.', '1647910854', 'Please upgrade to PRO or ENTERPRISE plan to see this field. Learn more: listennotes.com/api/pricing', '1664586066000', 'Please upgrade to PRO or ENTERPRISE plan to see this field. Learn more: listennotes.com/api/pricing', '1664586066000', 'English', 'United States', 'https://rachel-maddow-presents-ultra.simplecast.com?utm_source=listennotes.com&utm_campaign=Listen+Notes&utm_medium=website', \"{'twitter_handle': 'Please upgrade to PRO or ENTERPRISE plan to see this field. Learn more: listennotes.com/api/pricing', 'facebook_handle': 'Please upgrade to PRO or ENTERPRISE plan to see this field. Learn more: listennotes.com/api/pricing', 'instagram_handle': 'Please upgrade to PRO or ENTERPRISE plan to see this field. Learn more: listennotes.com/api/pricing', 'wechat_handle': 'Please upgrade to PRO or ENTERPRISE plan to see this field. Learn more: listennotes.com/api/pricing', 'patreon_handle': 'Please upgrade to PRO or ENTERPRISE plan to see this field. Learn more: listennotes.com/api/pricing', 'youtube_url': 'Please upgrade to PRO or ENTERPRISE plan to see this field. Learn more: listennotes.com/api/pricing', 'linkedin_url': 'Please upgrade to PRO or ENTERPRISE plan to see this field. Learn more: listennotes.com/api/pricing', 'spotify_url': 'Please upgrade to PRO or ENTERPRISE plan to see this field. Learn more: listennotes.com/api/pricing', 'google_url': 'Please upgrade to PRO or ENTERPRISE plan to see this field. Learn more: listennotes.com/api/pricing', 'amazon_music_url': 'Please upgrade to PRO or ENTERPRISE plan to see this field. Learn more: listennotes.com/api/pricing', 'url1': 'Please upgrade to PRO or ENTERPRISE plan to see this field. Learn more: listennotes.com/api/pricing', 'url2': 'Please upgrade to PRO or ENTERPRISE plan to see this field. Learn more: listennotes.com/api/pricing', 'url3': 'Please upgrade to PRO or ENTERPRISE plan to see this field. Learn more: listennotes.com/api/pricing'}\", 'False', 'Please upgrade to PRO or ENTERPRISE plan to see this field. Learn more: listennotes.com/api/pricing', 'serial', \"{'sponsors': False, 'guests': False, 'cohosts': False, 'cross_promotion': False}\", '[99, 125, 67]']\n"
     ]
    }
   ],
   "source": [
    "import pandas as pd \n",
    "import numpy as np\n",
    "import csv\n",
    "\n",
    "id = []\n",
    "value = []\n",
    "with open(\"podcasts_52.csv\", \"w\") as csv_file: # Change each extraction!\n",
    "    writer = csv.writer(csv_file, delimiter = \",\")\n",
    "    \n",
    "    for i in podcasts:\n",
    "        for k in i:\n",
    "            id.append(k)\n",
    "    writer.writerow(id[0:27])\n",
    "    \n",
    "    for i in podcasts:\n",
    "        for k in i:\n",
    "            value.append(str(i[k]).lstrip())    \n",
    "        writer.writerow(value)\n",
    "        print(value)\n",
    "        value = []"
   ]
  }
 ],
 "metadata": {
  "kernelspec": {
   "display_name": "Python 3 (ipykernel)",
   "language": "python",
   "name": "python3"
  },
  "language_info": {
   "codemirror_mode": {
    "name": "ipython",
    "version": 3
   },
   "file_extension": ".py",
   "mimetype": "text/x-python",
   "name": "python",
   "nbconvert_exporter": "python",
   "pygments_lexer": "ipython3",
   "version": "3.8.8"
  }
 },
 "nbformat": 4,
 "nbformat_minor": 5
}
